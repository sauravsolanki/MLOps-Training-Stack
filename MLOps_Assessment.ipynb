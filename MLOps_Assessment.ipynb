{
 "nbformat": 4,
 "nbformat_minor": 0,
 "metadata": {
  "colab": {
   "provenance": [],
   "collapsed_sections": []
  },
  "kernelspec": {
   "name": "python3",
   "display_name": "Python 3"
  },
  "language_info": {
   "name": "python"
  }
 },
 "cells": [
  {
   "cell_type": "markdown",
   "source": [
    "# MLOps Assessment\n"
   ],
   "metadata": {
    "id": "hBRGNEHUZhEC"
   }
  },
  {
   "cell_type": "code",
   "source": [
    "import os.path\n",
    "import uuid\n",
    "\n",
    "import numpy as np\n",
    "# run this cell to create mnist_test.csv\n",
    "import pandas as pd\n",
    "\n",
    "# Download dataset\n",
    "!wget -O mnist_test.csv https: // pjreddie.com / media / files / mnist_test.csv\n",
    "\n",
    "# convert dataset to desired format\n",
    "headers = \"label,1x1,1x2,1x3,1x4,1x5,1x6,1x7,1x8,1x9,1x10,1x11,1x12,1x13,1x14,1x15,1x16,1x17,1x18,1x19,1x20,1x21,1x22,1x23,1x24,1x25,1x26,1x27,1x28,2x1,2x2,2x3,2x4,2x5,2x6,2x7,2x8,2x9,2x10,2x11,2x12,2x13,2x14,2x15,2x16,2x17,2x18,2x19,2x20,2x21,2x22,2x23,2x24,2x25,2x26,2x27,2x28,3x1,3x2,3x3,3x4,3x5,3x6,3x7,3x8,3x9,3x10,3x11,3x12,3x13,3x14,3x15,3x16,3x17,3x18,3x19,3x20,3x21,3x22,3x23,3x24,3x25,3x26,3x27,3x28,4x1,4x2,4x3,4x4,4x5,4x6,4x7,4x8,4x9,4x10,4x11,4x12,4x13,4x14,4x15,4x16,4x17,4x18,4x19,4x20,4x21,4x22,4x23,4x24,4x25,4x26,4x27,4x28,5x1,5x2,5x3,5x4,5x5,5x6,5x7,5x8,5x9,5x10,5x11,5x12,5x13,5x14,5x15,5x16,5x17,5x18,5x19,5x20,5x21,5x22,5x23,5x24,5x25,5x26,5x27,5x28,6x1,6x2,6x3,6x4,6x5,6x6,6x7,6x8,6x9,6x10,6x11,6x12,6x13,6x14,6x15,6x16,6x17,6x18,6x19,6x20,6x21,6x22,6x23,6x24,6x25,6x26,6x27,6x28,7x1,7x2,7x3,7x4,7x5,7x6,7x7,7x8,7x9,7x10,7x11,7x12,7x13,7x14,7x15,7x16,7x17,7x18,7x19,7x20,7x21,7x22,7x23,7x24,7x25,7x26,7x27,7x28,8x1,8x2,8x3,8x4,8x5,8x6,8x7,8x8,8x9,8x10,8x11,8x12,8x13,8x14,8x15,8x16,8x17,8x18,8x19,8x20,8x21,8x22,8x23,8x24,8x25,8x26,8x27,8x28,9x1,9x2,9x3,9x4,9x5,9x6,9x7,9x8,9x9,9x10,9x11,9x12,9x13,9x14,9x15,9x16,9x17,9x18,9x19,9x20,9x21,9x22,9x23,9x24,9x25,9x26,9x27,9x28,10x1,10x2,10x3,10x4,10x5,10x6,10x7,10x8,10x9,10x10,10x11,10x12,10x13,10x14,10x15,10x16,10x17,10x18,10x19,10x20,10x21,10x22,10x23,10x24,10x25,10x26,10x27,10x28,11x1,11x2,11x3,11x4,11x5,11x6,11x7,11x8,11x9,11x10,11x11,11x12,11x13,11x14,11x15,11x16,11x17,11x18,11x19,11x20,11x21,11x22,11x23,11x24,11x25,11x26,11x27,11x28,12x1,12x2,12x3,12x4,12x5,12x6,12x7,12x8,12x9,12x10,12x11,12x12,12x13,12x14,12x15,12x16,12x17,12x18,12x19,12x20,12x21,12x22,12x23,12x24,12x25,12x26,12x27,12x28,13x1,13x2,13x3,13x4,13x5,13x6,13x7,13x8,13x9,13x10,13x11,13x12,13x13,13x14,13x15,13x16,13x17,13x18,13x19,13x20,13x21,13x22,13x23,13x24,13x25,13x26,13x27,13x28,14x1,14x2,14x3,14x4,14x5,14x6,14x7,14x8,14x9,14x10,14x11,14x12,14x13,14x14,14x15,14x16,14x17,14x18,14x19,14x20,14x21,14x22,14x23,14x24,14x25,14x26,14x27,14x28,15x1,15x2,15x3,15x4,15x5,15x6,15x7,15x8,15x9,15x10,15x11,15x12,15x13,15x14,15x15,15x16,15x17,15x18,15x19,15x20,15x21,15x22,15x23,15x24,15x25,15x26,15x27,15x28,16x1,16x2,16x3,16x4,16x5,16x6,16x7,16x8,16x9,16x10,16x11,16x12,16x13,16x14,16x15,16x16,16x17,16x18,16x19,16x20,16x21,16x22,16x23,16x24,16x25,16x26,16x27,16x28,17x1,17x2,17x3,17x4,17x5,17x6,17x7,17x8,17x9,17x10,17x11,17x12,17x13,17x14,17x15,17x16,17x17,17x18,17x19,17x20,17x21,17x22,17x23,17x24,17x25,17x26,17x27,17x28,18x1,18x2,18x3,18x4,18x5,18x6,18x7,18x8,18x9,18x10,18x11,18x12,18x13,18x14,18x15,18x16,18x17,18x18,18x19,18x20,18x21,18x22,18x23,18x24,18x25,18x26,18x27,18x28,19x1,19x2,19x3,19x4,19x5,19x6,19x7,19x8,19x9,19x10,19x11,19x12,19x13,19x14,19x15,19x16,19x17,19x18,19x19,19x20,19x21,19x22,19x23,19x24,19x25,19x26,19x27,19x28,20x1,20x2,20x3,20x4,20x5,20x6,20x7,20x8,20x9,20x10,20x11,20x12,20x13,20x14,20x15,20x16,20x17,20x18,20x19,20x20,20x21,20x22,20x23,20x24,20x25,20x26,20x27,20x28,21x1,21x2,21x3,21x4,21x5,21x6,21x7,21x8,21x9,21x10,21x11,21x12,21x13,21x14,21x15,21x16,21x17,21x18,21x19,21x20,21x21,21x22,21x23,21x24,21x25,21x26,21x27,21x28,22x1,22x2,22x3,22x4,22x5,22x6,22x7,22x8,22x9,22x10,22x11,22x12,22x13,22x14,22x15,22x16,22x17,22x18,22x19,22x20,22x21,22x22,22x23,22x24,22x25,22x26,22x27,22x28,23x1,23x2,23x3,23x4,23x5,23x6,23x7,23x8,23x9,23x10,23x11,23x12,23x13,23x14,23x15,23x16,23x17,23x18,23x19,23x20,23x21,23x22,23x23,23x24,23x25,23x26,23x27,23x28,24x1,24x2,24x3,24x4,24x5,24x6,24x7,24x8,24x9,24x10,24x11,24x12,24x13,24x14,24x15,24x16,24x17,24x18,24x19,24x20,24x21,24x22,24x23,24x24,24x25,24x26,24x27,24x28,25x1,25x2,25x3,25x4,25x5,25x6,25x7,25x8,25x9,25x10,25x11,25x12,25x13,25x14,25x15,25x16,25x17,25x18,25x19,25x20,25x21,25x22,25x23,25x24,25x25,25x26,25x27,25x28,26x1,26x2,26x3,26x4,26x5,26x6,26x7,26x8,26x9,26x10,26x11,26x12,26x13,26x14,26x15,26x16,26x17,26x18,26x19,26x20,26x21,26x22,26x23,26x24,26x25,26x26,26x27,26x28,27x1,27x2,27x3,27x4,27x5,27x6,27x7,27x8,27x9,27x10,27x11,27x12,27x13,27x14,27x15,27x16,27x17,27x18,27x19,27x20,27x21,27x22,27x23,27x24,27x25,27x26,27x27,27x28,28x1,28x2,28x3,28x4,28x5,28x6,28x7,28x8,28x9,28x10,28x11,28x12,28x13,28x14,28x15,28x16,28x17,28x18,28x19,28x20,28x21,28x22,28x23,28x24,28x25,28x26,28x27,28x28\".split(\n",
    "    \",\")\n",
    "df = pd.read_csv(\"mnist_test.csv\", names=headers)\n",
    "\n",
    "print(df.shape)\n",
    "display(df[\"label\"].value_counts())\n",
    "\n",
    "# save to csv\n",
    "df.to_csv(\"mnist_test.csv\", index=False)\n",
    "new_df = pd.read_csv(\"mnist_test.csv\")\n",
    "# sanity check\n",
    "print(new_df.shape)\n",
    "display(new_df[\"label\"].value_counts())\n",
    "display(new_df.head())"
   ],
   "metadata": {
    "colab": {
     "base_uri": "https://localhost:8080/",
     "height": 871
    },
    "id": "MiEZWGTfbhxa",
    "outputId": "c53246b8-bfb7-4a63-8c7d-80e804cc9453"
   },
   "execution_count": 24,
   "outputs": [
    {
     "name": "stdout",
     "output_type": "stream",
     "text": [
      "--2022-11-27 11:27:44--  https://pjreddie.com/media/files/mnist_test.csv\r\n",
      "Resolving pjreddie.com (pjreddie.com)... 128.208.4.108\r\n",
      "Connecting to pjreddie.com (pjreddie.com)|128.208.4.108|:443... connected.\r\n",
      "HTTP request sent, awaiting response... 200 OK\r\n",
      "Length: 18289443 (17M) [application/octet-stream]\r\n",
      "Saving to: ‘mnist_test.csv’\r\n",
      "\r\n",
      "mnist_test.csv      100%[===================>]  17.44M  2.07MB/s    in 34s     \r\n",
      "\r\n",
      "2022-11-27 11:28:20 (529 KB/s) - ‘mnist_test.csv’ saved [18289443/18289443]\r\n",
      "\r\n",
      "(10000, 785)\n"
     ]
    },
    {
     "data": {
      "text/plain": "1    1135\n2    1032\n7    1028\n3    1010\n9    1009\n4     982\n0     980\n8     974\n6     958\n5     892\nName: label, dtype: int64"
     },
     "metadata": {},
     "output_type": "display_data"
    },
    {
     "name": "stdout",
     "output_type": "stream",
     "text": [
      "(10000, 785)\n"
     ]
    },
    {
     "data": {
      "text/plain": "1    1135\n2    1032\n7    1028\n3    1010\n9    1009\n4     982\n0     980\n8     974\n6     958\n5     892\nName: label, dtype: int64"
     },
     "metadata": {},
     "output_type": "display_data"
    },
    {
     "data": {
      "text/plain": "   label  1x1  1x2  1x3  1x4  1x5  1x6  1x7  1x8  1x9  ...  28x19  28x20  \\\n0      7    0    0    0    0    0    0    0    0    0  ...      0      0   \n1      2    0    0    0    0    0    0    0    0    0  ...      0      0   \n2      1    0    0    0    0    0    0    0    0    0  ...      0      0   \n3      0    0    0    0    0    0    0    0    0    0  ...      0      0   \n4      4    0    0    0    0    0    0    0    0    0  ...      0      0   \n\n   28x21  28x22  28x23  28x24  28x25  28x26  28x27  28x28  \n0      0      0      0      0      0      0      0      0  \n1      0      0      0      0      0      0      0      0  \n2      0      0      0      0      0      0      0      0  \n3      0      0      0      0      0      0      0      0  \n4      0      0      0      0      0      0      0      0  \n\n[5 rows x 785 columns]",
      "text/html": "<div>\n<style scoped>\n    .dataframe tbody tr th:only-of-type {\n        vertical-align: middle;\n    }\n\n    .dataframe tbody tr th {\n        vertical-align: top;\n    }\n\n    .dataframe thead th {\n        text-align: right;\n    }\n</style>\n<table border=\"1\" class=\"dataframe\">\n  <thead>\n    <tr style=\"text-align: right;\">\n      <th></th>\n      <th>label</th>\n      <th>1x1</th>\n      <th>1x2</th>\n      <th>1x3</th>\n      <th>1x4</th>\n      <th>1x5</th>\n      <th>1x6</th>\n      <th>1x7</th>\n      <th>1x8</th>\n      <th>1x9</th>\n      <th>...</th>\n      <th>28x19</th>\n      <th>28x20</th>\n      <th>28x21</th>\n      <th>28x22</th>\n      <th>28x23</th>\n      <th>28x24</th>\n      <th>28x25</th>\n      <th>28x26</th>\n      <th>28x27</th>\n      <th>28x28</th>\n    </tr>\n  </thead>\n  <tbody>\n    <tr>\n      <th>0</th>\n      <td>7</td>\n      <td>0</td>\n      <td>0</td>\n      <td>0</td>\n      <td>0</td>\n      <td>0</td>\n      <td>0</td>\n      <td>0</td>\n      <td>0</td>\n      <td>0</td>\n      <td>...</td>\n      <td>0</td>\n      <td>0</td>\n      <td>0</td>\n      <td>0</td>\n      <td>0</td>\n      <td>0</td>\n      <td>0</td>\n      <td>0</td>\n      <td>0</td>\n      <td>0</td>\n    </tr>\n    <tr>\n      <th>1</th>\n      <td>2</td>\n      <td>0</td>\n      <td>0</td>\n      <td>0</td>\n      <td>0</td>\n      <td>0</td>\n      <td>0</td>\n      <td>0</td>\n      <td>0</td>\n      <td>0</td>\n      <td>...</td>\n      <td>0</td>\n      <td>0</td>\n      <td>0</td>\n      <td>0</td>\n      <td>0</td>\n      <td>0</td>\n      <td>0</td>\n      <td>0</td>\n      <td>0</td>\n      <td>0</td>\n    </tr>\n    <tr>\n      <th>2</th>\n      <td>1</td>\n      <td>0</td>\n      <td>0</td>\n      <td>0</td>\n      <td>0</td>\n      <td>0</td>\n      <td>0</td>\n      <td>0</td>\n      <td>0</td>\n      <td>0</td>\n      <td>...</td>\n      <td>0</td>\n      <td>0</td>\n      <td>0</td>\n      <td>0</td>\n      <td>0</td>\n      <td>0</td>\n      <td>0</td>\n      <td>0</td>\n      <td>0</td>\n      <td>0</td>\n    </tr>\n    <tr>\n      <th>3</th>\n      <td>0</td>\n      <td>0</td>\n      <td>0</td>\n      <td>0</td>\n      <td>0</td>\n      <td>0</td>\n      <td>0</td>\n      <td>0</td>\n      <td>0</td>\n      <td>0</td>\n      <td>...</td>\n      <td>0</td>\n      <td>0</td>\n      <td>0</td>\n      <td>0</td>\n      <td>0</td>\n      <td>0</td>\n      <td>0</td>\n      <td>0</td>\n      <td>0</td>\n      <td>0</td>\n    </tr>\n    <tr>\n      <th>4</th>\n      <td>4</td>\n      <td>0</td>\n      <td>0</td>\n      <td>0</td>\n      <td>0</td>\n      <td>0</td>\n      <td>0</td>\n      <td>0</td>\n      <td>0</td>\n      <td>0</td>\n      <td>...</td>\n      <td>0</td>\n      <td>0</td>\n      <td>0</td>\n      <td>0</td>\n      <td>0</td>\n      <td>0</td>\n      <td>0</td>\n      <td>0</td>\n      <td>0</td>\n      <td>0</td>\n    </tr>\n  </tbody>\n</table>\n<p>5 rows × 785 columns</p>\n</div>"
     },
     "metadata": {},
     "output_type": "display_data"
    }
   ]
  },
  {
   "cell_type": "markdown",
   "source": [
    "\n",
    "## Create Dataset **`(OBJECTIVE 1)`**\n",
    "- - A sample of MNIST data (`mnist_test.csv`) will be created once provided code in notebook is executed\n",
    "- Data Description\n",
    "    - First column is `label`\n",
    "    - Next 784 columns represents the pixel value of 28x28 image marked from `1x1, 1x2 ... 28x28`\n",
    "-  Create Image dataset from the csv and store them in directories under `dataset`. Directory Structure will look like as shown below and each directory will contain  `~1000 images`\n",
    "\n"
   ],
   "metadata": {
    "id": "WRut53neAlnF"
   }
  },
  {
   "cell_type": "markdown",
   "source": [
    "![image.png](data:image/png;base64,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)"
   ],
   "metadata": {
    "id": "zGWU37bBMWn1"
   }
  },
  {
   "cell_type": "code",
   "execution_count": 33,
   "outputs": [],
   "source": [
    "import numpy as np\n",
    "import uuid\n",
    "from PIL import Image\n",
    "import os\n",
    "from pathlib import Path\n",
    "import tensorflow as tf\n",
    "from tensorflow.keras import layers\n",
    "from tensorflow.keras.models import Sequential"
   ],
   "metadata": {
    "collapsed": false
   }
  },
  {
   "cell_type": "code",
   "execution_count": 35,
   "outputs": [],
   "source": [
    "DATASET_FILE_PATH = \"mnist_test.csv\"\n",
    "DATASET_ROOT_PATH = \"./dataset\"\n",
    "IMAGE_WIDTH = 28\n",
    "IMAGE_HEIGHT = 28\n",
    "batch_size = 2\n",
    "\n"
   ],
   "metadata": {
    "collapsed": false
   }
  },
  {
   "cell_type": "code",
   "execution_count": 27,
   "outputs": [],
   "source": [
    "def get_dataset_file(path: str):\n",
    "    return pd.read_csv(path)\n",
    "\n",
    "\n",
    "def save_dataset_in_folders(dataset):\n",
    "    for index in range(row):\n",
    "        arr = np.array(dataset.iloc[index])\n",
    "        label = str(arr[0])\n",
    "        image_in_arr = np.array(arr[1:], dtype=np.uint8)\n",
    "        image_in_arr = image_in_arr.reshape((IMAGE_WIDTH, IMAGE_HEIGHT))\n",
    "\n",
    "        # make a label directory\n",
    "        image_dir = os.path.join(DATASET_ROOT_PATH, label)\n",
    "        image_path = os.path.join(image_dir, uuid.uuid4().hex) + \".jpg\"\n",
    "\n",
    "        if not os.path.exists(image_dir):\n",
    "            os.mkdir(image_dir)\n",
    "\n",
    "        # save to image to the path\n",
    "        im = Image.fromarray(image_in_arr)\n",
    "        im.save(image_path)\n"
   ],
   "metadata": {
    "collapsed": false
   }
  },
  {
   "cell_type": "code",
   "execution_count": 28,
   "outputs": [],
   "source": [
    "mnist_test_csv_dataframe = get_dataset_file(DATASET_FILE_PATH)\n",
    "columnsName = np.array(mnist_test_csv_dataframe.columns)\n",
    "row, col = mnist_test_csv_dataframe.shape\n",
    "\n",
    "if not os.path.exists(DATASET_ROOT_PATH):\n",
    "    os.mkdir(DATASET_ROOT_PATH)\n",
    "    save_dataset_in_folders(mnist_test_csv_dataframe)\n"
   ],
   "metadata": {
    "collapsed": false
   }
  },
  {
   "cell_type": "code",
   "execution_count": 31,
   "outputs": [
    {
     "name": "stdout",
     "output_type": "stream",
     "text": [
      "10000\n",
      "10000\n"
     ]
    }
   ],
   "source": [
    "# cross validation\n",
    "image_count = len(list(Path(DATASET_ROOT_PATH).glob('*/*.jpg')))\n",
    "print(image_count)\n",
    "print(row)"
   ],
   "metadata": {
    "collapsed": false
   }
  },
  {
   "cell_type": "code",
   "execution_count": 56,
   "outputs": [
    {
     "name": "stdout",
     "output_type": "stream",
     "text": [
      "Found 10000 files belonging to 10 classes.\n",
      "Using 8000 files for training.\n",
      "Found 10000 files belonging to 10 classes.\n",
      "Using 2000 files for validation.\n"
     ]
    }
   ],
   "source": [
    "# tensorflow Image Dataset\n",
    "train_ds = tf.keras.utils.image_dataset_from_directory(\n",
    "    DATASET_ROOT_PATH,\n",
    "    validation_split=0.2,\n",
    "    subset=\"training\",\n",
    "    seed=123,\n",
    "    image_size=(IMAGE_HEIGHT, IMAGE_WIDTH),\n",
    "    batch_size=batch_size,\n",
    "    color_mode=\"grayscale\"\n",
    ")\n",
    "val_ds = tf.keras.utils.image_dataset_from_directory(\n",
    "    DATASET_ROOT_PATH,\n",
    "    validation_split=0.2,\n",
    "    subset=\"validation\",\n",
    "    seed=123,\n",
    "    image_size=(IMAGE_HEIGHT, IMAGE_WIDTH),\n",
    "    batch_size=batch_size,\n",
    "    color_mode=\"grayscale\"\n",
    ")"
   ],
   "metadata": {
    "collapsed": false
   }
  },
  {
   "cell_type": "code",
   "execution_count": 57,
   "outputs": [
    {
     "name": "stdout",
     "output_type": "stream",
     "text": [
      "['0', '1', '2', '3', '4', '5', '6', '7', '8', '9']\n"
     ]
    }
   ],
   "source": [
    "class_names = train_ds.class_names\n",
    "print(class_names)"
   ],
   "metadata": {
    "collapsed": false
   }
  },
  {
   "cell_type": "code",
   "execution_count": 53,
   "outputs": [
    {
     "data": {
      "text/plain": "<Figure size 1000x1000 with 2 Axes>",
      "image/png": "[encoded data removed]"
     },
     "metadata": {},
     "output_type": "display_data"
    }
   ],
   "source": [
    "import matplotlib.pyplot as plt\n",
    "\n",
    "plt.figure(figsize=(10, 10))\n",
    "index = 0\n",
    "for images, labels in train_ds.take(2):\n",
    "    while index < 2:\n",
    "        ax = plt.subplot(3, 3, index + 1)\n",
    "        plt.imshow(images[index].numpy().astype(\"uint8\"), cmap='gray')\n",
    "        plt.title(class_names[labels[index]])\n",
    "        plt.axis(\"off\")\n",
    "        index += 1"
   ],
   "metadata": {
    "collapsed": false
   }
  },
  {
   "cell_type": "code",
   "execution_count": 54,
   "outputs": [
    {
     "name": "stdout",
     "output_type": "stream",
     "text": [
      "(2, 28, 28, 1)\n",
      "(2,)\n"
     ]
    }
   ],
   "source": [
    "for image_batch, labels_batch in train_ds:\n",
    "    print(image_batch.shape)\n",
    "    print(labels_batch.shape)\n",
    "    break"
   ],
   "metadata": {
    "collapsed": false
   }
  },
  {
   "cell_type": "code",
   "execution_count": 58,
   "outputs": [],
   "source": [
    "AUTOTUNE = tf.data.AUTOTUNE\n",
    "\n",
    "train_ds = train_ds.cache().shuffle(1000).prefetch(buffer_size=AUTOTUNE)\n",
    "val_ds = val_ds.cache().prefetch(buffer_size=AUTOTUNE)"
   ],
   "metadata": {
    "collapsed": false
   }
  },
  {
   "cell_type": "code",
   "execution_count": 59,
   "outputs": [],
   "source": [
    "num_classes = len(class_names)\n",
    "\n",
    "model = Sequential([\n",
    "    layers.Rescaling(1. / 255, input_shape=(IMAGE_HEIGHT, IMAGE_WIDTH, 1)),\n",
    "\n",
    "    layers.Conv2D(32, 3, padding='same', activation='relu'),\n",
    "    layers.MaxPooling2D(),\n",
    "\n",
    "    layers.Flatten(),\n",
    "\n",
    "    layers.Dense(num_classes)\n",
    "])"
   ],
   "metadata": {
    "collapsed": false
   }
  },
  {
   "cell_type": "code",
   "execution_count": 60,
   "outputs": [],
   "source": [
    "model.compile(optimizer='adam',\n",
    "              loss=tf.keras.losses.SparseCategoricalCrossentropy(from_logits=True),\n",
    "              metrics=['accuracy'])"
   ],
   "metadata": {
    "collapsed": false
   }
  },
  {
   "cell_type": "code",
   "execution_count": 61,
   "outputs": [
    {
     "name": "stdout",
     "output_type": "stream",
     "text": [
      "Model: \"sequential\"\n",
      "_________________________________________________________________\n",
      " Layer (type)                Output Shape              Param #   \n",
      "=================================================================\n",
      " rescaling (Rescaling)       (None, 28, 28, 1)         0         \n",
      "                                                                 \n",
      " conv2d (Conv2D)             (None, 28, 28, 32)        320       \n",
      "                                                                 \n",
      " max_pooling2d (MaxPooling2D  (None, 14, 14, 32)       0         \n",
      " )                                                               \n",
      "                                                                 \n",
      " flatten (Flatten)           (None, 6272)              0         \n",
      "                                                                 \n",
      " dense (Dense)               (None, 10)                62730     \n",
      "                                                                 \n",
      "=================================================================\n",
      "Total params: 63,050\n",
      "Trainable params: 63,050\n",
      "Non-trainable params: 0\n",
      "_________________________________________________________________\n"
     ]
    }
   ],
   "source": [
    "model.summary()"
   ],
   "metadata": {
    "collapsed": false
   }
  },
  {
   "cell_type": "code",
   "execution_count": 62,
   "outputs": [
    {
     "name": "stdout",
     "output_type": "stream",
     "text": [
      "Epoch 1/5\n",
      "4000/4000 [==============================] - 27s 6ms/step - loss: 0.2798 - accuracy: 0.9165 - val_loss: 0.1273 - val_accuracy: 0.9605\n",
      "Epoch 2/5\n",
      "4000/4000 [==============================] - 24s 6ms/step - loss: 0.0895 - accuracy: 0.9732 - val_loss: 0.1052 - val_accuracy: 0.9630\n",
      "Epoch 3/5\n",
      "4000/4000 [==============================] - 40s 10ms/step - loss: 0.0528 - accuracy: 0.9846 - val_loss: 0.0953 - val_accuracy: 0.9705\n",
      "Epoch 4/5\n",
      "4000/4000 [==============================] - 33s 8ms/step - loss: 0.0354 - accuracy: 0.9887 - val_loss: 0.0919 - val_accuracy: 0.9755\n",
      "Epoch 5/5\n",
      "4000/4000 [==============================] - 37s 9ms/step - loss: 0.0239 - accuracy: 0.9924 - val_loss: 0.0832 - val_accuracy: 0.9770\n"
     ]
    }
   ],
   "source": [
    "epochs = 5\n",
    "history = model.fit(\n",
    "    train_ds,\n",
    "    validation_data=val_ds,\n",
    "    epochs=epochs\n",
    ")"
   ],
   "metadata": {
    "collapsed": false
   }
  },
  {
   "cell_type": "code",
   "execution_count": 63,
   "outputs": [
    {
     "data": {
      "text/plain": "<Figure size 800x800 with 2 Axes>",
      "image/png": "[encoded data removed]"
     },
     "metadata": {},
     "output_type": "display_data"
    }
   ],
   "source": [
    "acc = history.history['accuracy']\n",
    "val_acc = history.history['val_accuracy']\n",
    "\n",
    "loss = history.history['loss']\n",
    "val_loss = history.history['val_loss']\n",
    "\n",
    "epochs_range = range(epochs)\n",
    "\n",
    "plt.figure(figsize=(8, 8))\n",
    "plt.subplot(1, 2, 1)\n",
    "plt.plot(epochs_range, acc, label='Training Accuracy')\n",
    "plt.plot(epochs_range, val_acc, label='Validation Accuracy')\n",
    "plt.legend(loc='lower right')\n",
    "plt.title('Training and Validation Accuracy')\n",
    "\n",
    "plt.subplot(1, 2, 2)\n",
    "plt.plot(epochs_range, loss, label='Training Loss')\n",
    "plt.plot(epochs_range, val_loss, label='Validation Loss')\n",
    "plt.legend(loc='upper right')\n",
    "plt.title('Training and Validation Loss')\n",
    "plt.show()"
   ],
   "metadata": {
    "collapsed": false
   }
  },
  {
   "cell_type": "code",
   "execution_count": 111,
   "outputs": [
    {
     "name": "stdout",
     "output_type": "stream",
     "text": [
      "1000/1000 - 4s - loss: 0.0832 - accuracy: 0.9770 - 4s/epoch - 4ms/step\n"
     ]
    },
    {
     "data": {
      "text/plain": "(0.08318585157394409, 0.9769999980926514)"
     },
     "execution_count": 111,
     "metadata": {},
     "output_type": "execute_result"
    }
   ],
   "source": [
    "test_loss, test_acc = model.evaluate(val_ds, verbose=2)\n",
    "test_loss, test_acc"
   ],
   "metadata": {
    "collapsed": false
   }
  },
  {
   "cell_type": "code",
   "execution_count": 64,
   "outputs": [
    {
     "name": "stderr",
     "output_type": "stream",
     "text": [
      "2022-11-27 12:40:30.473527: W tensorflow/python/util/util.cc:368] Sets are not currently considered sequences, but this may change in the future, so consider avoiding using them.\n"
     ]
    },
    {
     "name": "stdout",
     "output_type": "stream",
     "text": [
      "INFO:tensorflow:Assets written to: saved-model/best-model/assets\n"
     ]
    }
   ],
   "source": [
    "model.save(\"saved-model/best-model\")"
   ],
   "metadata": {
    "collapsed": false
   }
  },
  {
   "cell_type": "code",
   "execution_count": 66,
   "outputs": [
    {
     "data": {
      "text/plain": "{'loss': [0.2798323333263397,\n  0.0895458534359932,\n  0.05279088392853737,\n  0.03535928577184677,\n  0.023914935067296028],\n 'accuracy': [0.9164999723434448,\n  0.9732499718666077,\n  0.984624981880188,\n  0.9887499809265137,\n  0.9923750162124634],\n 'val_loss': [0.1272772252559662,\n  0.10515809059143066,\n  0.09534423053264618,\n  0.09190183132886887,\n  0.08318585157394409],\n 'val_accuracy': [0.9605000019073486,\n  0.9629999995231628,\n  0.9704999923706055,\n  0.9754999876022339,\n  0.9769999980926514]}"
     },
     "execution_count": 66,
     "metadata": {},
     "output_type": "execute_result"
    }
   ],
   "source": [
    "# history.history"
   ],
   "metadata": {
    "collapsed": false
   }
  },
  {
   "cell_type": "code",
   "execution_count": 67,
   "outputs": [],
   "source": [
    "# save the history\n",
    "import pickle\n",
    "\n",
    "with open(\"saved-model/training_history.pickle\", 'wb') as handle:\n",
    "    pickle.dump(history.history, handle, protocol=pickle.HIGHEST_PROTOCOL)\n"
   ],
   "metadata": {
    "collapsed": false
   }
  },
  {
   "cell_type": "code",
   "execution_count": 117,
   "outputs": [],
   "source": [
    "\n",
    "y_true = []\n",
    "y_pred = []\n",
    "\n",
    "for images, labels in val_ds:\n",
    "    predictions = model.predict(images)\n",
    "    pred_labels = tf.argmax(predictions,axis=1)\n",
    "\n",
    "    # print(predictions.shape)\n",
    "    # print(score.shape)\n",
    "    # print(predictions)\n",
    "    # print(score)\n",
    "    y_true.extend(labels.numpy().ravel())\n",
    "    y_pred.extend(pred_labels.numpy().ravel())\n",
    "\n",
    "\n",
    "    # print(\n",
    "    #     \"This image most likely belongs to {} with a {:.2f} percent confidence.\"\n",
    "    #     .format(class_names[np.argmax(score)], 100 * np.max(score))\n",
    "    # )\n"
   ],
   "metadata": {
    "collapsed": false
   }
  },
  {
   "cell_type": "code",
   "execution_count": 118,
   "outputs": [
    {
     "name": "stdout",
     "output_type": "stream",
     "text": [
      "2000 2000\n"
     ]
    }
   ],
   "source": [
    "print(len(y_true) ,len(y_pred))"
   ],
   "metadata": {
    "collapsed": false
   }
  },
  {
   "cell_type": "code",
   "execution_count": 119,
   "outputs": [],
   "source": [
    "# score.numpy()"
   ],
   "metadata": {
    "collapsed": false
   }
  },
  {
   "cell_type": "code",
   "execution_count": 120,
   "outputs": [],
   "source": [
    "from sklearn.metrics import accuracy_score, precision_score , recall_score , f1_score , cohen_kappa_score, roc_auc_score , confusion_matrix,ConfusionMatrixDisplay\n",
    "import seaborn as sns\n",
    "import matplotlib.pyplot as plt\n"
   ],
   "metadata": {
    "collapsed": false
   }
  },
  {
   "cell_type": "code",
   "execution_count": 121,
   "outputs": [
    {
     "name": "stdout",
     "output_type": "stream",
     "text": [
      "Accuracy: 0.977000\n",
      "Precision: 0.977000\n",
      "Recall: 0.977000\n",
      "F1 score: 0.977000\n",
      "Cohens kappa: 0.974421\n",
      "[[179   1   1   0   0   0   6   0   0   0]\n",
      " [  0 219   1   0   0   1   2   1   0   0]\n",
      " [  0   0 205   0   4   0   0   3   1   0]\n",
      " [  0   0   2 203   0   0   0   2   0   0]\n",
      " [  1   0   0   0 205   0   1   0   0   0]\n",
      " [  1   0   0   1   0 158   0   0   0   0]\n",
      " [  0   1   0   0   0   1 187   0   1   0]\n",
      " [  0   0   3   0   0   0   0 220   0   1]\n",
      " [  1   0   0   0   2   1   0   0 190   1]\n",
      " [  0   0   0   0   2   2   0   0   1 188]]\n"
     ]
    }
   ],
   "source": [
    "# image classification report\n",
    "\n",
    "# accuracy: (tp + tn) / (p + n)\n",
    "accuracy = accuracy_score(y_true, y_pred)\n",
    "print('Accuracy: %f' % accuracy)\n",
    "\n",
    "# precision tp / (tp + fp)\n",
    "precision = precision_score(y_true, y_pred,average=\"micro\")\n",
    "print('Precision: %f' % precision)\n",
    "\n",
    "# recall: tp / (tp + fn)\n",
    "recall = recall_score(y_true, y_pred,average=\"micro\")\n",
    "print('Recall: %f' % recall)\n",
    "\n",
    "# f1: 2 tp / (2 tp + fp + fn)\n",
    "f1 = f1_score(y_true, y_pred,average=\"micro\")\n",
    "print('F1 score: %f' % f1)\n",
    "\n",
    "# kappa\n",
    "kappa = cohen_kappa_score(y_true, y_pred)\n",
    "print('Cohens kappa: %f' % kappa)\n"
   ],
   "metadata": {
    "collapsed": false
   }
  },
  {
   "cell_type": "code",
   "execution_count": 128,
   "outputs": [],
   "source": [
    "# ROC AUC\n",
    "# auc = roc_auc_score(y_true, predictions[:,0],multi_class='ovr')\n",
    "# print('ROC AUC: %f' % auc)"
   ],
   "metadata": {
    "collapsed": false
   }
  },
  {
   "cell_type": "code",
   "execution_count": 122,
   "outputs": [
    {
     "data": {
      "text/plain": "<Figure size 500x500 with 2 Axes>",
      "image/png": "[encoded data removed]"
     },
     "metadata": {},
     "output_type": "display_data"
    }
   ],
   "source": [
    "# # Creating a dataframe for a array-formatted Confusion matrix,so it will be easy for plotting.\n",
    "cm = confusion_matrix(y_true, y_pred)\n",
    "f, ax=plt.subplots(figsize=(5,5))\n",
    "sns.heatmap(cm,annot=True,linewidths=0.5,linecolor=\"red\",fmt=\".0f\",ax=ax)\n",
    "plt.xlabel(\"y_pred\")\n",
    "plt.ylabel(\"y_true\")\n",
    "plt.show()"
   ],
   "metadata": {
    "collapsed": false
   }
  },
  {
   "cell_type": "markdown",
   "source": [
    "## Develop a Classification MLOps Pipeline **`(OBECTIVE 2)`** \n",
    "- The pipeline should automatically retrain a new classification model as soon as there are `significant changes` in dataset. \n",
    "- Some of the major steps in pipeline can include: \n",
    "    - Monitor the dataset - `monitored_dataset` directory\n",
    "        - if a new class is added with less than 200 examples - `Do Nothing`\n",
    "        - if new class contains more than 200 examples - `trigger next step`\n",
    "    - Split dataset into train/test/validation\n",
    "    - Train classification model on train dataset with validation \n",
    "    - Generate and store classification report with evaluation metrics (`Precision`, `Recall`, `F1-score`) on test set.\n",
    "- Any other improvement over this would be a plus.\n",
    "- Consider the scenario given below for better understanding.\n",
    "\n",
    "### Scenario \n",
    "- Initially, only classes `0` and `1` are available in `monitored_dataset` with ~500 samples each, then `start pipeline -> train model -> generate report`\n",
    "- A new class `2` is added with 150 samples, `Do Nothing`\n",
    "- Another 100 samples of class `3` are added, `Do Nothing`\n",
    "- Another 100 samples of class `2` are added, `start pipeline` and train only for classes having greater than 200 samples i.e. `0, 1, 2`.\n",
    "- And, so on.\n"
   ],
   "metadata": {
    "id": "acsUnpLGOGq4"
   }
  },
  {
   "cell_type": "code",
   "source": [],
   "metadata": {
    "id": "FMbhH8VzYzzu"
   },
   "execution_count": null,
   "outputs": []
  },
  {
   "cell_type": "code",
   "source": [],
   "metadata": {
    "id": "fIgppuvUYzw7"
   },
   "execution_count": null,
   "outputs": []
  },
  {
   "cell_type": "markdown",
   "source": [
    "----"
   ],
   "metadata": {
    "collapsed": false
   }
  },
  {
   "cell_type": "code",
   "execution_count": 132,
   "outputs": [
    {
     "name": "stdout",
     "output_type": "stream",
     "text": [
      "Found 10000 files belonging to 10 classes.\n",
      "Using 7000 files for training.\n",
      "Found 10000 files belonging to 10 classes.\n",
      "Using 3000 files for validation.\n"
     ]
    }
   ],
   "source": [
    "train_ds = tf.keras.utils.image_dataset_from_directory(\n",
    "    DATASET_ROOT_PATH,\n",
    "    validation_split=0.3,\n",
    "    subset=\"training\",\n",
    "    seed=123,\n",
    "    image_size=(IMAGE_HEIGHT, IMAGE_WIDTH),\n",
    "    batch_size=batch_size,\n",
    "    color_mode=\"grayscale\"\n",
    ")\n",
    "val_ds = tf.keras.utils.image_dataset_from_directory(\n",
    "    DATASET_ROOT_PATH,\n",
    "    validation_split=0.3,\n",
    "    subset=\"validation\",\n",
    "    seed=123,\n",
    "    image_size=(IMAGE_HEIGHT, IMAGE_WIDTH),\n",
    "    batch_size=batch_size,\n",
    "    color_mode=\"grayscale\"\n",
    ")\n",
    "class_names = train_ds.class_names\n",
    "\n",
    "test_ds = val_ds.take(len(val_ds)//2)\n",
    "val_ds = val_ds.skip(len(val_ds)-len(test_ds))\n"
   ],
   "metadata": {
    "collapsed": false
   }
  },
  {
   "cell_type": "code",
   "execution_count": 133,
   "outputs": [
    {
     "data": {
      "text/plain": "(750, 750)"
     },
     "execution_count": 133,
     "metadata": {},
     "output_type": "execute_result"
    }
   ],
   "source": [
    "len(test_ds),len(val_ds)"
   ],
   "metadata": {
    "collapsed": false
   }
  },
  {
   "cell_type": "code",
   "execution_count": null,
   "outputs": [],
   "source": [],
   "metadata": {
    "collapsed": false
   }
  }
 ]
}
